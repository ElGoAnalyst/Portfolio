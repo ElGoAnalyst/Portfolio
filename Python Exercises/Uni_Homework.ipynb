{
 "cells": [
  {
   "cell_type": "markdown",
   "metadata": {},
   "source": [
    "## Proportion Value Test: Task 1\n",
    "\n",
    "An internet provider plans a special advertising campaign in regions with below-average internet usage. The criterion should be a proportion of at most 70% of households with internet access. To select suitable regions, random samples of 100 households each are taken. The test is based on a significance level of 1%."
   ]
  },
  {
   "cell_type": "code",
   "execution_count": 1,
   "metadata": {},
   "outputs": [],
   "source": [
    "# importing all the necessary libraries\n",
    "\n",
    "import pandas as pd\n",
    "import numpy as np\n",
    "import matplotlib.pyplot as plt\n",
    "import seaborn as sns\n",
    "from scipy.stats import norm\n",
    "import math"
   ]
  },
  {
   "cell_type": "markdown",
   "metadata": {},
   "source": [
    "### 1. Check if the conditions for the normal distribution are met and determine the parameters of this distribution."
   ]
  },
  {
   "cell_type": "code",
   "execution_count": 3,
   "metadata": {},
   "outputs": [
    {
     "name": "stdout",
     "output_type": "stream",
     "text": [
      "n * p * (1 - p) = 21 and that is greater than 9   => Therefore the condition is met\n"
     ]
    }
   ],
   "source": [
    "# We are questioning households whether they have an internet access or not. Furthermore, we are not questioning the same household twice (n draws without replacement).\n",
    "# This means we have a hypergeometrical distribution.\n",
    "# To check, if we can approximate the hyper distribution through the normal distribution, the following condition must be met:\n",
    "\n",
    "# n * p * (1 - p) >= 9\n",
    "\n",
    "n = 100\n",
    "p = 0.7\n",
    "\n",
    "norm_condition = round(n * p * (1 - p))\n",
    "\n",
    "if norm_condition >= 9:\n",
    "    print(f\"n * p * (1 - p) = {norm_condition} and that is greater than 9   => Therefore the condition is met\" )\n",
    "else: print(\"The condition is not met\")"
   ]
  },
  {
   "cell_type": "code",
   "execution_count": 4,
   "metadata": {},
   "outputs": [
    {
     "name": "stdout",
     "output_type": "stream",
     "text": [
      "The parameters of the normal distribution function are mu = 70 and var = 21.\n"
     ]
    }
   ],
   "source": [
    "# Since the condition is met, the parameters for the norm distribution are:\n",
    "\n",
    "mu = round(n * p) \n",
    "var = round(n * p * (1 - p))\n",
    "\n",
    "print(f\"The parameters of the normal distribution function are mu = {mu} and var = {var}.\")"
   ]
  },
  {
   "cell_type": "markdown",
   "metadata": {},
   "source": [
    "### 2. Which hypothesis would be formulated by a rather risk-averse provider, and which by a rather cautious provider?"
   ]
  },
  {
   "cell_type": "markdown",
   "metadata": {},
   "source": [
    "A risk-averse provider does not want to miss out on regions for the advertisement. Therefore, he assumes that the proportion of households with an internet access is at most 70%.\n",
    "\n",
    "A cautious provider on the other hand, does not want to waste resources in regions, where it would be unprofitable. He therefore assumes that the proportion is 70% or more.\n",
    "\n",
    "So the Hypothesis for the risk-averse provider would be:\n",
    "\n",
    "H0: p <= 0.7\n",
    "\n",
    "H1: p > 0.7\n",
    "\n",
    "And for the cautious provider, it would be:\n",
    "\n",
    "H0: p >= 0.7\n",
    "\n",
    "H1: p < 0.7"
   ]
  },
  {
   "cell_type": "markdown",
   "metadata": {},
   "source": [
    "###  3. Determine the acceptance or rejection bounds that would lead to the start of the advertising campaign in each case."
   ]
  },
  {
   "cell_type": "markdown",
   "metadata": {},
   "source": [
    "##### Risk-Averse Provider\n",
    "\n",
    "Since H0 is p <= 0.7, we are looking for the upper bound of the confidence interval."
   ]
  },
  {
   "cell_type": "code",
   "execution_count": 5,
   "metadata": {},
   "outputs": [
    {
     "name": "stdout",
     "output_type": "stream",
     "text": [
      "The risk-averse provider would start the campaign, if p is lower than 0.8066066522559174.\n"
     ]
    }
   ],
   "source": [
    "n = 100\n",
    "p_0 = 0.7\n",
    "alpha = 0.01\n",
    "sigma_0 = math.sqrt((p_0*(1-p_0)/n))\n",
    "\n",
    "z = -norm.isf(q=1-alpha, loc=0, scale=1)\n",
    "\n",
    "CI_upper_bound = p_0 + (z * sigma_0)\n",
    "\n",
    "print(f\"The risk-averse provider would start the campaign, if p is lower than {CI_upper_bound}.\")"
   ]
  },
  {
   "cell_type": "markdown",
   "metadata": {},
   "source": [
    "##### Cautious Provider\n",
    "\n",
    "Since H0 is p >= 0.7, we are looking for the lower bound of the confidence interval."
   ]
  },
  {
   "cell_type": "code",
   "execution_count": 6,
   "metadata": {},
   "outputs": [
    {
     "name": "stdout",
     "output_type": "stream",
     "text": [
      "The cautious provider would start the campaign, if p is greater than 0.5933933477440825.\n"
     ]
    }
   ],
   "source": [
    "n = 100\n",
    "p_0 = 0.7\n",
    "alpha = 0.01\n",
    "sigma_0 = math.sqrt((p_0*(1-p_0)/n))\n",
    "\n",
    "z = -norm.isf(q=1-alpha, loc=0, scale=1)\n",
    "\n",
    "CI_lower_bound = p_0 - (z * sigma_0)\n",
    "\n",
    "print(f\"The cautious provider would start the campaign, if p is greater than {CI_lower_bound}.\")"
   ]
  },
  {
   "cell_type": "markdown",
   "metadata": {},
   "source": [
    "### 4. What conclusions can be drawn regarding the acceptance or rejection of the hypotheses after drawing a sample with a proportion value p=0.68?"
   ]
  },
  {
   "cell_type": "markdown",
   "metadata": {},
   "source": [
    "##### Risk-Averse Provider\n",
    "\n",
    "H0: p <= 0.7\n",
    "\n",
    "H1: p > 0.7"
   ]
  },
  {
   "cell_type": "code",
   "execution_count": 8,
   "metadata": {},
   "outputs": [
    {
     "name": "stdout",
     "output_type": "stream",
     "text": [
      "The null hypotheses with the assumption that the percentage of households with an internet access is at most 70% cannot be rejected.\n",
      "Therefore, this region is eligible for the campaign.\n"
     ]
    }
   ],
   "source": [
    "p = 0.68\n",
    "\n",
    "if p < CI_upper_bound:\n",
    "    print(\"The null hypotheses with the assumption that the percentage of households with an internet access is at most 70% cannot be rejected.\\nTherefore, this region is eligible for the campaign.\")\n",
    "else:\n",
    "    print(\"The null hypotheses with the assumption that the percentage of households is at most 70% must be rejected. This region is not eligible for the campaign.\")"
   ]
  },
  {
   "cell_type": "markdown",
   "metadata": {},
   "source": [
    "##### Cautious Provider\n",
    "\n",
    "H0: p >= 0.7\n",
    "\n",
    "H1: p < 0.7"
   ]
  },
  {
   "cell_type": "code",
   "execution_count": 10,
   "metadata": {},
   "outputs": [
    {
     "name": "stdout",
     "output_type": "stream",
     "text": [
      "The null hypotheses with the assumption that the percentage of households with an internet access is greater than 70% cannot be rejected.\n",
      "Therefore, this region is not suitable for the campaign.\n"
     ]
    }
   ],
   "source": [
    "p = 0.68\n",
    "\n",
    "if p > CI_lower_bound:\n",
    "    print(\"The null hypotheses with the assumption that the percentage of households with an internet access is greater than 70% cannot be rejected.\\nTherefore, this region is not suitable for the campaign.\")\n",
    "else:\n",
    "    print(\"The null hypotheses with the assumption that the percentage of households is greater than 70% must be rejected. This region is suitable for the campaign.\")"
   ]
  },
  {
   "cell_type": "markdown",
   "metadata": {},
   "source": [
    "## Proportion Value Test; Task 2\n",
    "\n",
    "In the state of Texas, the illiteracy rate in the population was only 20% a few years ago. The government at that time aimed to reduce this rate through an intensive support program. After two years, the government announced that the program was already bearing fruit and the illiteracy rate had significantly decreased.\n",
    "\n",
    "The opposition randomly selected 350 people for a test, 49 of whom did not pass. Conduct a hypothesis test at a significance level of 0.05, which allows for a clear statement about the reduction of the rate.\n",
    "\n",
    "Does it make sense to test the hypothesis π ≤ 0.2 for acceptance or the hypothesis π ≥ 0.2 for rejection? What conclusion do you come to?"
   ]
  },
  {
   "cell_type": "code",
   "execution_count": null,
   "metadata": {},
   "outputs": [
    {
     "name": "stdout",
     "output_type": "stream",
     "text": [
      "n * p_0 * (1 - p_0) = 56 > 9    =>  approximation via normal distribution eligible!\n"
     ]
    }
   ],
   "source": [
    "# We again have a hypergeometrical distribution, because we draw without replacement.\n",
    "\n",
    "# Let's check, if we can approximate through the normal distribution.\n",
    "\n",
    "n = 350\n",
    "p = 49/350\n",
    "p_0 = 0.2\n",
    "\n",
    "approx = round(n * p_0 * (1 - p_0))\n",
    "\n",
    "if approx > 9:\n",
    "    print(f'n * p_0 * (1 - p_0) = {approx} > 9    =>  approximation via normal distribution eligible!')\n",
    "else:\n",
    "    print(f'n * p_0 * (1 - p_0) = {approx} < 9    =>  approximation via normal distribution not eligible!')"
   ]
  },
  {
   "cell_type": "markdown",
   "metadata": {},
   "source": [
    "If we test for p <= 0.2, we are trying to prove, that the current illiteracy rate is at most 20%, which is not what we are trying to do.\n",
    "\n",
    "Our attempt is to actually prove that the illiteracy rate decreased and the program was successful. \n",
    "\n",
    "That's why we have to disprove that p is still 20% or higher.\n",
    "Therefore, we assume that p < 0.2.\n",
    "\n",
    "Consequently, our hypotheses are as follows:\n",
    "\n",
    "H0: p >= 0.2\n",
    "\n",
    "H1: p < 0.2\n",
    "\n",
    "\n",
    "Therefore, we are looking for the lower bound of the confidence interval."
   ]
  },
  {
   "cell_type": "code",
   "execution_count": 11,
   "metadata": {},
   "outputs": [
    {
     "name": "stdout",
     "output_type": "stream",
     "text": [
      "The illiteracy rate is 0.14 and therefore lower than the lower bound of 0.16483155015174353. Hence, H0 must be rejected. The program was successful and the illiteracy rate decreased.\n"
     ]
    }
   ],
   "source": [
    "# computing the lower bound \n",
    "\n",
    "n = 350\n",
    "alpha = 0.05\n",
    "p_0 = 0.2\n",
    "sigma_0 = math.sqrt((p_0*(1-p_0))/n)\n",
    "\n",
    "z = -norm.isf(q= 1-alpha, loc=0, scale=1)\n",
    "\n",
    "CI_lower_bound = p_0 - (z * sigma_0)\n",
    "\n",
    "# testing our hypotheses for rejection\n",
    "\n",
    "p = 49/350\n",
    "\n",
    "if p < CI_lower_bound:\n",
    "    print(f'The illiteracy rate is {p} and therefore lower than the lower bound of {CI_lower_bound}. Hence, H0 must be rejected. The program was successful and the illiteracy rate decreased.')\n",
    "else:\n",
    "    print(f'The illiteracy rate is {p} and therefore greater than the lower bound. H0 is not to be rejected. The programme was not successful and the illiteracy rate is still 20% or even higher.')\n"
   ]
  }
 ],
 "metadata": {
  "kernelspec": {
   "display_name": "Python 3",
   "language": "python",
   "name": "python3"
  },
  "language_info": {
   "codemirror_mode": {
    "name": "ipython",
    "version": 3
   },
   "file_extension": ".py",
   "mimetype": "text/x-python",
   "name": "python",
   "nbconvert_exporter": "python",
   "pygments_lexer": "ipython3",
   "version": "3.12.1"
  }
 },
 "nbformat": 4,
 "nbformat_minor": 2
}
